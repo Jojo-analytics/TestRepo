{
 "cells": [
  {
   "cell_type": "markdown",
   "id": "4f1c53fa-e7e2-4b40-ab8b-b88f10d91320",
   "metadata": {},
   "source": [
    "# Data Science Tools and Eco system"
   ]
  },
  {
   "cell_type": "markdown",
   "id": "bd821749-43ee-4d2a-9f25-af5fcb5f9318",
   "metadata": {},
   "source": [
    "# In this notebook, Data Science Tools and Ecosystem are summarized."
   ]
  },
  {
   "cell_type": "code",
   "execution_count": null,
   "id": "8d08cf22-c705-4da0-aa73-0a99264250f5",
   "metadata": {},
   "outputs": [],
   "source": []
  },
  {
   "cell_type": "markdown",
   "id": "5824a866-2666-429a-a1b7-bbc5a15ea64c",
   "metadata": {},
   "source": [
    "# Some of the popular languages that Data Scientists use are:\n",
    "\n",
    "1. Python\n",
    "2. R\n",
    "3. SQL"
   ]
  },
  {
   "cell_type": "markdown",
   "id": "d8d97a7c-8bc9-4673-8a26-8ec0563c8f4f",
   "metadata": {},
   "source": [
    " # Some of the commonly used libraries used by Data Scientists include:\n",
    "\n",
    "1. Pandas\n",
    "2. NumPy\n",
    "3. Matplotlib\n",
    "4. Scikit-learn"
   ]
  },
  {
   "cell_type": "markdown",
   "id": "404801f8-abec-4306-bf6f-7065094d9519",
   "metadata": {},
   "source": [
    "| Data Science Tools |\n",
    "|--------------------|\n",
    "| Jupyter Notebook   |\n",
    "| RStudio            |\n",
    "| Apache Zeppelin    |\n"
   ]
  },
  {
   "cell_type": "markdown",
   "id": "a2737e6d-3998-4c09-a699-f65b4df22a7b",
   "metadata": {},
   "source": [
    "### Below are a few examples of evaluating arithmetic expressions in Python."
   ]
  },
  {
   "cell_type": "code",
   "execution_count": 1,
   "id": "7f4b7bc0-a171-4ffe-82c9-15630fdc4c35",
   "metadata": {},
   "outputs": [
    {
     "data": {
      "text/plain": [
       "17"
      ]
     },
     "execution_count": 1,
     "metadata": {},
     "output_type": "execute_result"
    }
   ],
   "source": [
    "# This a simple arithmetic expression to mutiply then add integers\n",
    "(3 * 4) + 5"
   ]
  },
  {
   "cell_type": "code",
   "execution_count": 2,
   "id": "56a9a1d1-8e67-42bb-94f6-fe854b049fb8",
   "metadata": {},
   "outputs": [
    {
     "data": {
      "text/plain": [
       "3.3333333333333335"
      ]
     },
     "execution_count": 2,
     "metadata": {},
     "output_type": "execute_result"
    }
   ],
   "source": [
    "# This will convert 200 minutes to hours by dividing by 60\n",
    "200 / 60"
   ]
  },
  {
   "cell_type": "markdown",
   "id": "f3b3b849-f462-4bfe-851c-fbc9841a78d0",
   "metadata": {},
   "source": [
    "**Objectives:**\n",
    "\n",
    "- List popular languages for Data Science  \n",
    "- List commonly used libraries by Data Scientists  \n",
    "- Create tables of Data Science tools  \n",
    "- Demonstrate arithmetic expressions in Python  \n",
    "- Convert units (e.g., minutes to hours) using Python\n"
   ]
  },
  {
   "attachments": {},
   "cell_type": "markdown",
   "id": "8eba6ec8-2b71-45b5-870e-e55fbf681be9",
   "metadata": {},
   "source": [
    "## Author\n",
    "Joan Cosmos\n"
   ]
  },
  {
   "cell_type": "code",
   "execution_count": null,
   "id": "41564e37-ae58-435f-8fc1-6fb764fc2f05",
   "metadata": {},
   "outputs": [],
   "source": []
  }
 ],
 "metadata": {
  "kernelspec": {
   "display_name": "Python 3 (ipykernel)",
   "language": "python",
   "name": "python3"
  },
  "language_info": {
   "codemirror_mode": {
    "name": "ipython",
    "version": 3
   },
   "file_extension": ".py",
   "mimetype": "text/x-python",
   "name": "python",
   "nbconvert_exporter": "python",
   "pygments_lexer": "ipython3",
   "version": "3.12.8"
  }
 },
 "nbformat": 4,
 "nbformat_minor": 5
}
